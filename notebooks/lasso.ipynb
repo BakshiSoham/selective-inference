{
 "metadata": {
  "name": ""
 },
 "nbformat": 3,
 "nbformat_minor": 0,
 "worksheets": [
  {
   "cells": [
    {
     "cell_type": "code",
     "collapsed": false,
     "input": [
      "import numpy as np\n",
      "import selection.lasso; reload(selection.lasso)\n",
      "from selection.lasso import lasso\n",
      "%pylab inline"
     ],
     "language": "python",
     "metadata": {},
     "outputs": [
      {
       "output_type": "stream",
       "stream": "stdout",
       "text": [
        "Populating the interactive namespace from numpy and matplotlib\n"
       ]
      },
      {
       "output_type": "stream",
       "stream": "stderr",
       "text": [
        "/Users/jonathantaylor/canopy/lib/python2.7/site-packages/selection/lasso.py:11: UserWarning: cvx not available\n",
        "  warnings.warn('cvx not available')\n"
       ]
      }
     ],
     "prompt_number": 1
    },
    {
     "cell_type": "code",
     "collapsed": false,
     "input": [
      "n, p, sigma = 100, 50, 1.5\n",
      "\n",
      "def instance(n, p, sigma, frac=0.7, beta=None):\n",
      "    X = np.random.standard_normal((n,p)) + 0.7 * np.random.standard_normal(n)[:,None]\n",
      "    X -= X.mean(0)[None,:]\n",
      "    X /= np.sqrt((X**2).sum(0))[None,:]\n",
      "    y = np.random.standard_normal(n) * sigma\n",
      "    if beta is not None:\n",
      "        mu = np.dot(X, beta)\n",
      "    else:\n",
      "        mu = np.zeros(n)\n",
      "    y += mu\n",
      "    return lasso(y, X, frac=frac, sigma_epsilon=sigma), mu"
     ],
     "language": "python",
     "metadata": {},
     "outputs": [],
     "prompt_number": 2
    },
    {
     "cell_type": "code",
     "collapsed": false,
     "input": [
      "L, mu = instance(n,p,sigma)"
     ],
     "language": "python",
     "metadata": {},
     "outputs": [],
     "prompt_number": 3
    },
    {
     "cell_type": "code",
     "collapsed": false,
     "input": [
      "def form_intervals(n, p, sigma, frac=0.9, beta=None, plot=True):\n",
      "    results = []\n",
      "    L, mu = instance(n, p, sigma, frac=frac, beta=beta)\n",
      "    for i, eta, center, interval in L.intervals:\n",
      "        lower, upper = interval\n",
      "        truth = (eta * mu).sum()\n",
      "        if plot:\n",
      "            plt.scatter(i, truth, s=30)\n",
      "        if truth > lower and truth < upper:\n",
      "            covered = True\n",
      "        else:\n",
      "            covered = False\n",
      "        if plot:\n",
      "            if not covered:\n",
      "                plt.plot([i,i], [lower, upper], linewidth=4, color='red', alpha=0.7)\n",
      "            else:\n",
      "                plt.plot([i,i], [lower, upper], linewidth=4, color='green', alpha=0.7)\n",
      "        results.append((truth, covered, lower, upper))\n",
      "    if plot:\n",
      "        plt.gca().set_xlim([-1,p+1])\n",
      "        return plt.gcf(), results\n",
      "    else:\n",
      "        return None, results"
     ],
     "language": "python",
     "metadata": {},
     "outputs": [],
     "prompt_number": 17
    },
    {
     "cell_type": "markdown",
     "metadata": {},
     "source": [
      "## Null case\n",
      "\n",
      "Here are a few null simulations:"
     ]
    },
    {
     "cell_type": "code",
     "collapsed": false,
     "input": [
      "f = form_intervals(100, 50, 1, frac=0.3)[0]"
     ],
     "language": "python",
     "metadata": {},
     "outputs": [
      {
       "metadata": {},
       "output_type": "display_data",
       "png": "[encoded data removed]",
       "text": [
        "<matplotlib.figure.Figure at 0x86de790>"
       ]
      }
     ],
     "prompt_number": 27
    },
    {
     "cell_type": "code",
     "collapsed": false,
     "input": [
      "f = form_intervals(100, 20, 1, frac=0.3)[0]"
     ],
     "language": "python",
     "metadata": {},
     "outputs": [
      {
       "metadata": {},
       "output_type": "display_data",
       "png": "[encoded data removed]",
       "text": [
        "<matplotlib.figure.Figure at 0x8ab52f0>"
       ]
      }
     ],
     "prompt_number": 28
    },
    {
     "cell_type": "markdown",
     "metadata": {},
     "source": [
      "## A few strong signals"
     ]
    },
    {
     "cell_type": "markdown",
     "metadata": {},
     "source": [
      "We'll repeat the experiment including some strong signals. In the intervals below, the light gray region are the \n",
      "truly active coefficients."
     ]
    },
    {
     "cell_type": "code",
     "collapsed": false,
     "input": [
      "p = 20\n",
      "beta = np.zeros(p)\n",
      "beta[:4] = 4\n",
      "f = form_intervals(100,p,1,frac=0.7, beta=beta)[0]\n",
      "a = f.gca()\n",
      "ylim = a.get_ylim()\n",
      "a.fill([0,4,4,0],[-100,-100,100,100], alpha=0.2, facecolor='gray')\n",
      "a.set_ylim(ylim)"
     ],
     "language": "python",
     "metadata": {},
     "outputs": [
      {
       "metadata": {},
       "output_type": "pyout",
       "prompt_number": 29,
       "text": [
        "(0.0, 7.0)"
       ]
      },
      {
       "metadata": {},
       "output_type": "display_data",
       "png": "[encoded data removed]",
       "text": [
        "<matplotlib.figure.Figure at 0x8c0a910>"
       ]
      }
     ],
     "prompt_number": 29
    },
    {
     "cell_type": "code",
     "collapsed": false,
     "input": [
      "p = 50\n",
      "beta = np.zeros(p)\n",
      "beta[:4] = 4\n",
      "f = form_intervals(100,p,1,frac=0.5, beta=beta)[0]\n",
      "a = f.gca()\n",
      "ylim = a.get_ylim()\n",
      "a.fill([0,4,4,0],[-100,-100,100,100], alpha=0.2, facecolor='gray')\n",
      "a.set_ylim(ylim)"
     ],
     "language": "python",
     "metadata": {},
     "outputs": [
      {
       "metadata": {},
       "output_type": "pyout",
       "prompt_number": 30,
       "text": [
        "(-1.0, 8.0)"
       ]
      },
      {
       "metadata": {},
       "output_type": "display_data",
       "png": "[encoded data removed]",
       "text": [
        "<matplotlib.figure.Figure at 0x8ab5030>"
       ]
      }
     ],
     "prompt_number": 30
    },
    {
     "cell_type": "markdown",
     "metadata": {},
     "source": [
      "When it has included all true variables in the model, the signal intervals should have center at the true value of 4."
     ]
    },
    {
     "cell_type": "markdown",
     "metadata": {},
     "source": [
      "## Combining several instances\n",
      "\n",
      "Let's take several of the strong signal instances, compute several intervals and plot them.\n"
     ]
    },
    {
     "cell_type": "code",
     "collapsed": false,
     "input": [
      "results = []\n",
      "nsim = 50\n",
      "min_results = 100\n",
      "p = 20\n",
      "beta = np.zeros(p)\n",
      "beta[:4] = 4\n",
      "\n",
      "for _ in range(nsim):\n",
      "    results.extend(form_intervals(100,p,1,frac=0.7, beta=beta, plot=False)[1])\n",
      "    if len(results) > min_results:\n",
      "        break"
     ],
     "language": "python",
     "metadata": {},
     "outputs": [],
     "prompt_number": 25
    },
    {
     "cell_type": "code",
     "collapsed": false,
     "input": [
      "idx = 0\n",
      "for truth, covered, lower, upper in results:\n",
      "    plt.scatter(idx, truth, s=30)\n",
      "    if not covered:\n",
      "        plt.plot([idx,idx], [lower, upper], linewidth=4, color='red', alpha=0.7)\n",
      "    else:\n",
      "        plt.plot([idx,idx], [lower, upper], linewidth=4, color='green', alpha=0.7)\n",
      "    idx += 1\n",
      "plt.gca().set_xlim([-1,idx+1])"
     ],
     "language": "python",
     "metadata": {},
     "outputs": [
      {
       "metadata": {},
       "output_type": "pyout",
       "prompt_number": 31,
       "text": [
        "(-1, 104)"
       ]
      },
      {
       "metadata": {},
       "output_type": "display_data",
       "png": "[encoded data removed]",
       "text": [
        "<matplotlib.figure.Figure at 0x8864610>"
       ]
      }
     ],
     "prompt_number": 31
    },
    {
     "cell_type": "code",
     "collapsed": false,
     "input": [],
     "language": "python",
     "metadata": {},
     "outputs": []
    }
   ],
   "metadata": {}
  }
 ]
}