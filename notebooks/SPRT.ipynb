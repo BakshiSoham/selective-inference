{
 "metadata": {
  "name": "",
  "signature": "sha256:3636d189889e27b130354007756886cfd7fd5c91007f3dd74c7c87ba0d9ce98a"
 },
 "nbformat": 3,
 "nbformat_minor": 0,
 "worksheets": [
  {
   "cells": [
    {
     "cell_type": "code",
     "collapsed": false,
     "input": [
      "import numpy as np\n",
      "from selection.SPRT import SPRT\n"
     ],
     "language": "python",
     "metadata": {},
     "outputs": [],
     "prompt_number": 1
    },
    {
     "cell_type": "markdown",
     "metadata": {},
     "source": [
      "## A sanity check\n",
      "\n",
      "Let's take a test that does a minimum of 3 steps, a maximum of 5 and\n",
      "a quadratic decision boundary.\n"
     ]
    },
    {
     "cell_type": "code",
     "collapsed": false,
     "input": [
      "sequential_test = SPRT(lambda n: 4 * np.sqrt(n), nmin=3, nmax=5)"
     ],
     "language": "python",
     "metadata": {},
     "outputs": [],
     "prompt_number": 2
    },
    {
     "cell_type": "markdown",
     "metadata": {},
     "source": [
      "If we feed this constraint zero and noise variance of 1.5, \n",
      "we expect the constraints to be only on the third and fourth running sum.\n",
      "The third running sum should be between $\\pm 6 \\sqrt{3}$ while the fourth\n",
      "should be between $\\pm 12$."
     ]
    },
    {
     "cell_type": "code",
     "collapsed": false,
     "input": [
      "sigma = 1.5\n",
      "zero = np.zeros((sequential_test.nmax, 2))\n",
      "zero_results = sequential_test(zero, sigma=sigma)\n",
      "zero_results.outcome"
     ],
     "language": "python",
     "metadata": {},
     "outputs": [
      {
       "output_type": "stream",
       "stream": "stdout",
       "text": [
        "0.974999994354 0.025000009518\n"
       ]
      },
      {
       "metadata": {},
       "output_type": "pyout",
       "prompt_number": 3,
       "text": [
        "'reached max time'"
       ]
      }
     ],
     "prompt_number": 3
    },
    {
     "cell_type": "code",
     "collapsed": false,
     "input": [
      "zero_results.selection_constraints[0].inequality"
     ],
     "language": "python",
     "metadata": {},
     "outputs": [
      {
       "metadata": {},
       "output_type": "pyout",
       "prompt_number": 4,
       "text": [
        "array([[-1., -1., -1., -0., -0.],\n",
        "       [-1., -1., -1., -1., -0.],\n",
        "       [ 1.,  1.,  1.,  0.,  0.],\n",
        "       [ 1.,  1.,  1.,  1.,  0.]])"
       ]
      }
     ],
     "prompt_number": 4
    },
    {
     "cell_type": "code",
     "collapsed": false,
     "input": [
      "print zero_results.selection_constraints[0].inequality_offset\n",
      "print 6*np.sqrt(3)"
     ],
     "language": "python",
     "metadata": {},
     "outputs": [
      {
       "output_type": "stream",
       "stream": "stdout",
       "text": [
        "[ 10.39230485  12.          10.39230485  12.        ]\n",
        "10.3923048454\n"
       ]
      }
     ],
     "prompt_number": 5
    },
    {
     "cell_type": "markdown",
     "metadata": {},
     "source": [
      "If we instead give it data with a strong signal, we expect it\n",
      "will terminate very early. The boundaries are unchanged\n",
      "so we should be able to make it stop at either 3 steps or 4 steps."
     ]
    },
    {
     "cell_type": "code",
     "collapsed": false,
     "input": [
      "upper = np.zeros((sequential_test.nmax, 2))\n",
      "upper[:,1] = np.array([2,4,5,0,0])\n",
      "upper_results = sequential_test(upper, sigma=sigma)\n",
      "(upper_results.outcome, upper_results.stopping_time)\n"
     ],
     "language": "python",
     "metadata": {},
     "outputs": [
      {
       "output_type": "stream",
       "stream": "stdout",
       "text": [
        "0.975000018074 0.500000590918\n"
       ]
      },
      {
       "metadata": {},
       "output_type": "pyout",
       "prompt_number": 6,
       "text": [
        "('upper boundary', 3)"
       ]
      }
     ],
     "prompt_number": 6
    },
    {
     "cell_type": "code",
     "collapsed": false,
     "input": [
      "(upper_results.selection_constraints[0].inequality,\n",
      " upper_results.selection_constraints[0].inequality_offset)"
     ],
     "language": "python",
     "metadata": {},
     "outputs": [
      {
       "metadata": {},
       "output_type": "pyout",
       "prompt_number": 7,
       "text": [
        "(array([[ 1.,  1.,  1.]]), array([-10.39230485]))"
       ]
      }
     ],
     "prompt_number": 7
    },
    {
     "cell_type": "code",
     "collapsed": false,
     "input": [
      "later = np.zeros((sequential_test.nmax, 2))\n",
      "later[:,1] = -np.array([2,4,4,3,0])\n",
      "later_results = sequential_test(later, sigma=sigma)\n",
      "(later_results.outcome, later_results.stopping_time)"
     ],
     "language": "python",
     "metadata": {},
     "outputs": [
      {
       "output_type": "stream",
       "stream": "stdout",
       "text": [
        "0.975000014549 0.0\n"
       ]
      },
      {
       "metadata": {},
       "output_type": "pyout",
       "prompt_number": 8,
       "text": [
        "('lower boundary', 4)"
       ]
      }
     ],
     "prompt_number": 8
    },
    {
     "cell_type": "code",
     "collapsed": false,
     "input": [
      "(later_results.selection_constraints[0].inequality,\n",
      " later_results.selection_constraints[0].inequality_offset)"
     ],
     "language": "python",
     "metadata": {},
     "outputs": [
      {
       "metadata": {},
       "output_type": "pyout",
       "prompt_number": 9,
       "text": [
        "(array([[ 1.,  1.,  1.,  0.],\n",
        "        [-1., -1., -1., -0.],\n",
        "        [ 1.,  1.,  1.,  1.]]),\n",
        " array([ 10.39230485,  10.39230485, -12.        ]))"
       ]
      }
     ],
     "prompt_number": 9
    },
    {
     "cell_type": "markdown",
     "metadata": {},
     "source": [
      "The returned object has a truncated Gaussian associated to it."
     ]
    },
    {
     "cell_type": "code",
     "collapsed": false,
     "input": [
      "quantile = later_results.trunc_gauss.quantile(0.05)\n",
      "later_results.trunc_gauss.CDF(quantile)"
     ],
     "language": "python",
     "metadata": {},
     "outputs": [
      {
       "metadata": {},
       "output_type": "pyout",
       "prompt_number": 10,
       "text": [
        "0.050002334467303608"
       ]
      }
     ],
     "prompt_number": 10
    },
    {
     "cell_type": "markdown",
     "metadata": {},
     "source": [
      "It also has a selection interval attached to it, computed using\n",
      "Will's UMAU calculations."
     ]
    },
    {
     "cell_type": "code",
     "collapsed": false,
     "input": [
      "later_results.naive_interval"
     ],
     "language": "python",
     "metadata": {},
     "outputs": [
      {
       "metadata": {},
       "output_type": "pyout",
       "prompt_number": 12,
       "text": [
        "array([-6.42841659, -6.24999982])"
       ]
      }
     ],
     "prompt_number": 12
    },
    {
     "cell_type": "markdown",
     "metadata": {},
     "source": [
      "## A simulation\n",
      "\n",
      "Let's try simulating with a true mean difference."
     ]
    },
    {
     "cell_type": "code",
     "collapsed": false,
     "input": [
      "mu = np.array([4,8])\n",
      "simulate = lambda mu: np.random.standard_normal((sequential_test.nmax,2)) * sigma + mu[None,:]\n",
      "simulate(mu)"
     ],
     "language": "python",
     "metadata": {},
     "outputs": [
      {
       "metadata": {},
       "output_type": "pyout",
       "prompt_number": 13,
       "text": [
        "array([[  2.03284613,   7.93925024],\n",
        "       [  2.80090021,   5.77578159],\n",
        "       [  4.80410344,   7.41652291],\n",
        "       [  7.27757001,  11.1188557 ],\n",
        "       [  3.78980403,   6.72746197]])"
       ]
      }
     ],
     "prompt_number": 13
    },
    {
     "cell_type": "code",
     "collapsed": false,
     "input": [
      "Z = simulate(mu)\n",
      "results = sequential_test(Z, sigma=sigma)\n",
      "U = results.umau_interval\n",
      "N = results.naive_interval\n",
      "results.trunc_gauss.CDF(results.observed, N[1]) - results.trunc_gauss.CDF(results.observed, N[0])\n"
     ],
     "language": "python",
     "metadata": {},
     "outputs": [
      {
       "output_type": "stream",
       "stream": "stdout",
       "text": [
        "0.975000025732 0.0249999570306\n"
       ]
      },
      {
       "metadata": {},
       "output_type": "pyout",
       "prompt_number": 39,
       "text": [
        "0.0"
       ]
      }
     ],
     "prompt_number": 39
    },
    {
     "cell_type": "code",
     "collapsed": false,
     "input": [
      "results.naive_interval, results.umau_interval"
     ],
     "language": "python",
     "metadata": {},
     "outputs": [
      {
       "metadata": {},
       "output_type": "pyout",
       "prompt_number": 16,
       "text": [
        "(array([ 0.43540133,  1.87120876]), array([ 0.43540138,  1.75581178]))"
       ]
      }
     ],
     "prompt_number": 16
    },
    {
     "cell_type": "code",
     "collapsed": false,
     "input": [
      "results.outcome"
     ],
     "language": "python",
     "metadata": {},
     "outputs": []
    },
    {
     "cell_type": "code",
     "collapsed": false,
     "input": [
      "results.boundary"
     ],
     "language": "python",
     "metadata": {},
     "outputs": []
    },
    {
     "cell_type": "code",
     "collapsed": false,
     "input": [
      "results.observed, np.mean(Z[:,1]) - np.mean(Z[:,0])"
     ],
     "language": "python",
     "metadata": {},
     "outputs": []
    },
    {
     "cell_type": "code",
     "collapsed": false,
     "input": [],
     "language": "python",
     "metadata": {},
     "outputs": []
    }
   ],
   "metadata": {}
  }
 ]
}