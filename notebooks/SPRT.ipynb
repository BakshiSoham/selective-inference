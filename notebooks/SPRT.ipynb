{
 "metadata": {
  "name": "",
  "signature": "sha256:c38f4049487cc100f5fd9f32675b6848cbde5c163984cd51c64184094da6ef3a"
 },
 "nbformat": 3,
 "nbformat_minor": 0,
 "worksheets": [
  {
   "cells": [
    {
     "cell_type": "code",
     "collapsed": false,
     "input": [
      "import numpy as np\n",
      "np.random.seed(0)\n",
      "from selection.SPRT import SPRT\n",
      "%pylab inline"
     ],
     "language": "python",
     "metadata": {},
     "outputs": [
      {
       "output_type": "stream",
       "stream": "stdout",
       "text": [
        "Populating the interactive namespace from numpy and matplotlib\n"
       ]
      }
     ],
     "prompt_number": 1
    },
    {
     "cell_type": "markdown",
     "metadata": {},
     "source": [
      "## A sanity check\n",
      "\n",
      "Let's take a test that does a minimum of 3 steps, a maximum of 5 and\n",
      "a quadratic decision boundary.\n"
     ]
    },
    {
     "cell_type": "code",
     "collapsed": false,
     "input": [
      "sequential_test = SPRT(lambda n: 4 * np.sqrt(n), nmin=3, nmax=5)"
     ],
     "language": "python",
     "metadata": {},
     "outputs": [],
     "prompt_number": 2
    },
    {
     "cell_type": "markdown",
     "metadata": {},
     "source": [
      "If we feed this constraint zero and measurement $\\sigma$ 1.5 (so that the\n",
      "standard deviation of one difference is $\\sqrt{2} \\cdot 1.5$).\n",
      "We expect the constraints to be only on the third and fourth running sum.\n",
      "The third running sum should be between $\\pm 6 \\sqrt{6}$ while the fourth\n",
      "should be between $\\pm 12 \\sqrt{2}$."
     ]
    },
    {
     "cell_type": "code",
     "collapsed": false,
     "input": [
      "sigma = 1.5\n",
      "zero = np.zeros((sequential_test.nmax, 2))\n",
      "zero_results = sequential_test(zero, sigma=sigma)\n",
      "zero_results.outcome"
     ],
     "language": "python",
     "metadata": {},
     "outputs": [
      {
       "metadata": {},
       "output_type": "pyout",
       "prompt_number": 3,
       "text": [
        "'reached max time'"
       ]
      }
     ],
     "prompt_number": 3
    },
    {
     "cell_type": "code",
     "collapsed": false,
     "input": [
      "zero_results.selection_constraints[0].inequality"
     ],
     "language": "python",
     "metadata": {},
     "outputs": [
      {
       "metadata": {},
       "output_type": "pyout",
       "prompt_number": 4,
       "text": [
        "array([[-1., -1., -1., -0., -0.],\n",
        "       [-1., -1., -1., -1., -0.],\n",
        "       [ 1.,  1.,  1.,  0.,  0.],\n",
        "       [ 1.,  1.,  1.,  1.,  0.]])"
       ]
      }
     ],
     "prompt_number": 4
    },
    {
     "cell_type": "code",
     "collapsed": false,
     "input": [
      "print zero_results.selection_constraints[0].inequality_offset\n",
      "print (6*np.sqrt(6), 12*np.sqrt(2))"
     ],
     "language": "python",
     "metadata": {},
     "outputs": [
      {
       "output_type": "stream",
       "stream": "stdout",
       "text": [
        "[ 14.69693846  16.97056275  14.69693846  16.97056275]\n",
        "(14.696938456699067, 16.970562748477143)\n"
       ]
      }
     ],
     "prompt_number": 5
    },
    {
     "cell_type": "markdown",
     "metadata": {},
     "source": [
      "If we instead give it data with a strong signal, we expect it\n",
      "will terminate very early. The boundaries are unchanged\n",
      "so we should be able to make it stop at either 3 steps or 4 steps."
     ]
    },
    {
     "cell_type": "code",
     "collapsed": false,
     "input": [
      "upper = np.zeros((sequential_test.nmax, 2))\n",
      "upper[:,1] = np.array([2,4,10,0,0])\n",
      "upper_results = sequential_test(upper, sigma=sigma)\n",
      "(upper_results.outcome, upper_results.stopping_time)\n"
     ],
     "language": "python",
     "metadata": {},
     "outputs": [
      {
       "metadata": {},
       "output_type": "pyout",
       "prompt_number": 6,
       "text": [
        "('upper boundary', 3)"
       ]
      }
     ],
     "prompt_number": 6
    },
    {
     "cell_type": "code",
     "collapsed": false,
     "input": [
      "(upper_results.selection_constraints[0].inequality,\n",
      " upper_results.selection_constraints[0].inequality_offset)"
     ],
     "language": "python",
     "metadata": {},
     "outputs": [
      {
       "metadata": {},
       "output_type": "pyout",
       "prompt_number": 7,
       "text": [
        "(array([[ 1.,  1.,  1.]]), array([-14.69693846]))"
       ]
      }
     ],
     "prompt_number": 7
    },
    {
     "cell_type": "code",
     "collapsed": false,
     "input": [
      "later = np.zeros((sequential_test.nmax, 2))\n",
      "later[:,1] = -np.array([2,4,4,7,0])\n",
      "later_results = sequential_test(later, sigma=sigma)\n",
      "(later_results.outcome, later_results.stopping_time)"
     ],
     "language": "python",
     "metadata": {},
     "outputs": [
      {
       "metadata": {},
       "output_type": "pyout",
       "prompt_number": 8,
       "text": [
        "('lower boundary', 4)"
       ]
      }
     ],
     "prompt_number": 8
    },
    {
     "cell_type": "code",
     "collapsed": false,
     "input": [
      "(later_results.selection_constraints[0].inequality,\n",
      " later_results.selection_constraints[0].inequality_offset)"
     ],
     "language": "python",
     "metadata": {},
     "outputs": [
      {
       "metadata": {},
       "output_type": "pyout",
       "prompt_number": 9,
       "text": [
        "(array([[ 1.,  1.,  1.,  0.],\n",
        "        [-1., -1., -1., -0.],\n",
        "        [ 1.,  1.,  1.,  1.]]),\n",
        " array([ 14.69693846,  14.69693846, -16.97056275]))"
       ]
      }
     ],
     "prompt_number": 9
    },
    {
     "cell_type": "markdown",
     "metadata": {},
     "source": [
      "The returned object has a truncated Gaussian associated to it."
     ]
    },
    {
     "cell_type": "code",
     "collapsed": false,
     "input": [
      "quantile = later_results.trunc_gauss.quantile(0.05)\n",
      "later_results.trunc_gauss.CDF(quantile)\n"
     ],
     "language": "python",
     "metadata": {},
     "outputs": [
      {
       "metadata": {},
       "output_type": "pyout",
       "prompt_number": 10,
       "text": [
        "0.050000000000290611"
       ]
      }
     ],
     "prompt_number": 10
    },
    {
     "cell_type": "markdown",
     "metadata": {},
     "source": [
      "It also has a selection interval attached to it, computed using\n",
      "Will's UMAU calculations."
     ]
    },
    {
     "cell_type": "code",
     "collapsed": false,
     "input": [
      "later_results.naive_interval, later_results.UMAU_interval"
     ],
     "language": "python",
     "metadata": {},
     "outputs": [
      {
       "metadata": {},
       "output_type": "pyout",
       "prompt_number": 11,
       "text": [
        "(array([-0.91663516,  0.40394909]), array([-0.89490976,  0.8548994 ]))"
       ]
      }
     ],
     "prompt_number": 11
    },
    {
     "cell_type": "markdown",
     "metadata": {},
     "source": [
      "## A simulation\n",
      "\n",
      "Let's try simulating with a true mean difference."
     ]
    },
    {
     "cell_type": "code",
     "collapsed": false,
     "input": [
      "sequential_test = SPRT(lambda n: 4 * np.sqrt(n), nmin=3, nmax=20)\n",
      "\n",
      "mu, sigma = np.array([4,6]), 1\n",
      "simulate = lambda mu: np.random.standard_normal((sequential_test.nmax,2)) * sigma + mu[None,:]\n",
      "simulate(mu)"
     ],
     "language": "python",
     "metadata": {},
     "outputs": [
      {
       "metadata": {},
       "output_type": "pyout",
       "prompt_number": 12,
       "text": [
        "array([[ 5.76405235,  6.40015721],\n",
        "       [ 4.97873798,  8.2408932 ],\n",
        "       [ 5.86755799,  5.02272212],\n",
        "       [ 4.95008842,  5.84864279],\n",
        "       [ 3.89678115,  6.4105985 ],\n",
        "       [ 4.14404357,  7.45427351],\n",
        "       [ 4.76103773,  6.12167502],\n",
        "       [ 4.44386323,  6.33367433],\n",
        "       [ 5.49407907,  5.79484174],\n",
        "       [ 4.3130677 ,  5.14590426],\n",
        "       [ 1.44701018,  6.6536186 ],\n",
        "       [ 4.8644362 ,  5.25783498],\n",
        "       [ 6.26975462,  4.54563433],\n",
        "       [ 4.04575852,  5.81281615],\n",
        "       [ 5.53277921,  7.46935877],\n",
        "       [ 4.15494743,  6.37816252],\n",
        "       [ 3.11221425,  4.01920353],\n",
        "       [ 3.65208785,  6.15634897],\n",
        "       [ 5.23029068,  7.20237985],\n",
        "       [ 3.61267318,  5.69769725]])"
       ]
      }
     ],
     "prompt_number": 12
    },
    {
     "cell_type": "code",
     "collapsed": false,
     "input": [
      "Z = simulate(mu)\n",
      "results = sequential_test(Z, sigma=sigma)\n",
      "U = results.UMAU_interval\n",
      "N = results.naive_interval\n",
      "\n",
      "results.trunc_gauss.mu = N[0]\n",
      "results.trunc_gauss.CDF(results.observed)\n"
     ],
     "language": "python",
     "metadata": {},
     "outputs": [
      {
       "output_type": "stream",
       "stream": "stderr",
       "text": [
        "/Users/jonathantaylor/canopy/lib/python2.7/site-packages/selection/truncated.py:176: RuntimeWarning: invalid value encountered in double_scalars\n",
        "  (observed - mu)/sigma, use_R=self.use_R)) / P.sum()\n"
       ]
      },
      {
       "metadata": {},
       "output_type": "pyout",
       "prompt_number": 13,
       "text": [
        "0.97500001420285243"
       ]
      }
     ],
     "prompt_number": 13
    },
    {
     "cell_type": "code",
     "collapsed": false,
     "input": [
      "results.trunc_gauss.mu = N[1]\n",
      "results.trunc_gauss.CDF(results.observed)\n"
     ],
     "language": "python",
     "metadata": {},
     "outputs": [
      {
       "metadata": {},
       "output_type": "pyout",
       "prompt_number": 14,
       "text": [
        "0.024999998872230023"
       ]
      }
     ],
     "prompt_number": 14
    },
    {
     "cell_type": "code",
     "collapsed": false,
     "input": [
      "results.naive_interval, results.UMAU_interval"
     ],
     "language": "python",
     "metadata": {},
     "outputs": [
      {
       "metadata": {},
       "output_type": "pyout",
       "prompt_number": 15,
       "text": [
        "(array([  0.19083166,  15.93350397]), array([  0.49508863,  15.34686104]))"
       ]
      }
     ],
     "prompt_number": 15
    },
    {
     "cell_type": "code",
     "collapsed": false,
     "input": [
      "results.outcome"
     ],
     "language": "python",
     "metadata": {},
     "outputs": [
      {
       "metadata": {},
       "output_type": "pyout",
       "prompt_number": 16,
       "text": [
        "'upper boundary'"
       ]
      }
     ],
     "prompt_number": 16
    },
    {
     "cell_type": "code",
     "collapsed": false,
     "input": [
      "results.boundary"
     ],
     "language": "python",
     "metadata": {},
     "outputs": [
      {
       "metadata": {},
       "output_type": "pyout",
       "prompt_number": 17,
       "text": [
        "array([[ -5.65685425,   5.65685425],\n",
        "       [ -8.        ,   8.        ],\n",
        "       [ -9.79795897,   9.79795897],\n",
        "       [-11.3137085 ,  11.3137085 ]])"
       ]
      }
     ],
     "prompt_number": 17
    },
    {
     "cell_type": "code",
     "collapsed": false,
     "input": [
      "quantile = results.trunc_gauss.quantile(0.05)\n",
      "results.trunc_gauss.CDF(quantile)"
     ],
     "language": "python",
     "metadata": {},
     "outputs": [
      {
       "metadata": {},
       "output_type": "pyout",
       "prompt_number": 18,
       "text": [
        "0.0"
       ]
      }
     ],
     "prompt_number": 18
    },
    {
     "cell_type": "markdown",
     "metadata": {},
     "source": [
      "## Some intervals"
     ]
    },
    {
     "cell_type": "code",
     "collapsed": false,
     "input": [
      "P = []\n",
      "pivot = []\n",
      "nsim = 500\n",
      "\n",
      "naive = plt.figure(figsize=(10,8)).gca()\n",
      "\n",
      "for i in range(nsim):\n",
      "    Z = simulate(mu)\n",
      "\n",
      "    results = sequential_test(Z, sigma=sigma)\n",
      "    results.alpha = 0.1\n",
      "    \n",
      "    P.append(results.pvalue(truth=0))\n",
      "    pivot.append(results.pvalue(truth=mu[1]-mu[0]))\n",
      "    \n",
      "    if i < 100:\n",
      "        if (results.naive_interval[0] < mu[1] - mu[0] and\n",
      "            results.naive_interval[1] > mu[1] - mu[0]):\n",
      "            naive.plot([i,i], results.naive_interval, linewidth=3, alpha=0.5, color='green')\n",
      "        else:\n",
      "            naive.plot([i,i], results.naive_interval, linewidth=3, alpha=0.5, color='red')\n",
      "        \n",
      "naive.plot([0,nsim], [mu[1]-mu[0],mu[1]-mu[0]], 'k--')\n",
      "naive.plot([0,nsim], [0,0], 'gray')\n",
      "naive.set_xlim([0,100])\n"
     ],
     "language": "python",
     "metadata": {},
     "outputs": [
      {
       "metadata": {},
       "output_type": "pyout",
       "prompt_number": 19,
       "text": [
        "(0, 100)"
       ]
      },
      {
       "metadata": {},
       "output_type": "display_data",
       "png": "[encoded data removed]",
       "text": [
        "<matplotlib.figure.Figure at 0x1103d0190>"
       ]
      }
     ],
     "prompt_number": 19
    },
    {
     "cell_type": "code",
     "collapsed": false,
     "input": [
      "%load_ext rmagic"
     ],
     "language": "python",
     "metadata": {},
     "outputs": [],
     "prompt_number": 20
    },
    {
     "cell_type": "code",
     "collapsed": false,
     "input": [
      "%%R -i P,pivot\n",
      "plot(ecdf(P), col='green')\n",
      "lines(ecdf(pivot), col='red')\n",
      "ecdf(P)(0.05)"
     ],
     "language": "python",
     "metadata": {},
     "outputs": [
      {
       "metadata": {},
       "output_type": "display_data",
       "text": [
        "[1] 0.374\n"
       ]
      },
      {
       "metadata": {},
       "output_type": "display_data",
       "png": "[encoded data removed]"
      }
     ],
     "prompt_number": 21
    },
    {
     "cell_type": "markdown",
     "metadata": {},
     "source": [
      "## A tweak\n",
      "\n",
      "One possible reason that the intervals are large is that when we stop, the \n",
      "observed value might fall very close to its truncation interval. We might\n",
      "try taking a few additional samples, if permitted by the design, to form\n",
      "a better estimate after stopping.\n",
      "\n",
      "This is the `extra_samples` argument."
     ]
    },
    {
     "cell_type": "code",
     "collapsed": false,
     "input": [
      "P = []\n",
      "pivot = []\n",
      "nsim = 500\n",
      "\n",
      "naive = plt.figure(figsize=(10,8)).gca()\n",
      "nominal = plt.figure(figsize=(10,8)).gca()\n",
      "\n",
      "for i in range(nsim):\n",
      "    Z = simulate(mu)\n",
      "\n",
      "    results = sequential_test(Z, sigma=sigma, extra_samples=5)\n",
      "    results.alpha = 0.1\n",
      "    P.append(results.pvalue(truth=0))\n",
      "    pivot.append(results.pvalue(truth=mu[1]-mu[0]))\n",
      "    \n",
      "    if i < 100:\n",
      "        if (results.naive_interval[0] < mu[1] - mu[0] and\n",
      "            results.naive_interval[1] > mu[1] - mu[0]):\n",
      "            naive.plot([i,i], results.naive_interval, linewidth=3, alpha=0.5, color='green')\n",
      "        else:\n",
      "            naive.plot([i,i], results.naive_interval, linewidth=3, alpha=0.5, color='red')\n",
      "            \n",
      "        if (results.nominal_interval[0] < mu[1] - mu[0] and\n",
      "            results.nominal_interval[1] > mu[1] - mu[0]):\n",
      "            nominal.plot([i,i], results.nominal_interval, linewidth=3, alpha=0.5, color='green')\n",
      "        else:\n",
      "            nominal.plot([i,i], results.nominal_interval, linewidth=3, alpha=0.5, color='red')\n",
      "        \n",
      "naive.plot([0,nsim], [mu[1]-mu[0],mu[1]-mu[0]], 'k--')\n",
      "naive.plot([0,nsim], [0,0], 'gray')\n",
      "naive.set_xlim([0,100])\n",
      "naive.title('Adjusted intervals')\n",
      "\n",
      "nominal.plot([0,nsim], [mu[1]-mu[0],mu[1]-mu[0]], 'k--')\n",
      "nominal.plot([0,nsim], [0,0], 'gray')\n",
      "nominal.set_xlim([0,100])\n",
      "nominal.title('Nominal intervals for same data')"
     ],
     "language": "python",
     "metadata": {},
     "outputs": [
      {
       "ename": "TypeError",
       "evalue": "'Text' object is not callable",
       "output_type": "pyerr",
       "traceback": [
        "\u001b[0;31m---------------------------------------------------------------------------\u001b[0m\n\u001b[0;31mTypeError\u001b[0m                                 Traceback (most recent call last)",
        "\u001b[0;32m<ipython-input-22-86f5a9a3038e>\u001b[0m in \u001b[0;36m<module>\u001b[0;34m()\u001b[0m\n\u001b[1;32m     30\u001b[0m \u001b[0mnaive\u001b[0m\u001b[0;34m.\u001b[0m\u001b[0mplot\u001b[0m\u001b[0;34m(\u001b[0m\u001b[0;34m[\u001b[0m\u001b[0;36m0\u001b[0m\u001b[0;34m,\u001b[0m\u001b[0mnsim\u001b[0m\u001b[0;34m]\u001b[0m\u001b[0;34m,\u001b[0m \u001b[0;34m[\u001b[0m\u001b[0;36m0\u001b[0m\u001b[0;34m,\u001b[0m\u001b[0;36m0\u001b[0m\u001b[0;34m]\u001b[0m\u001b[0;34m,\u001b[0m \u001b[0;34m'gray'\u001b[0m\u001b[0;34m)\u001b[0m\u001b[0;34m\u001b[0m\u001b[0m\n\u001b[1;32m     31\u001b[0m \u001b[0mnaive\u001b[0m\u001b[0;34m.\u001b[0m\u001b[0mset_xlim\u001b[0m\u001b[0;34m(\u001b[0m\u001b[0;34m[\u001b[0m\u001b[0;36m0\u001b[0m\u001b[0;34m,\u001b[0m\u001b[0;36m100\u001b[0m\u001b[0;34m]\u001b[0m\u001b[0;34m)\u001b[0m\u001b[0;34m\u001b[0m\u001b[0m\n\u001b[0;32m---> 32\u001b[0;31m \u001b[0mnaive\u001b[0m\u001b[0;34m.\u001b[0m\u001b[0mtitle\u001b[0m\u001b[0;34m(\u001b[0m\u001b[0;34m'Adjusted intervals'\u001b[0m\u001b[0;34m)\u001b[0m\u001b[0;34m\u001b[0m\u001b[0m\n\u001b[0m\u001b[1;32m     33\u001b[0m \u001b[0;34m\u001b[0m\u001b[0m\n\u001b[1;32m     34\u001b[0m \u001b[0mnominal\u001b[0m\u001b[0;34m.\u001b[0m\u001b[0mplot\u001b[0m\u001b[0;34m(\u001b[0m\u001b[0;34m[\u001b[0m\u001b[0;36m0\u001b[0m\u001b[0;34m,\u001b[0m\u001b[0mnsim\u001b[0m\u001b[0;34m]\u001b[0m\u001b[0;34m,\u001b[0m \u001b[0;34m[\u001b[0m\u001b[0mmu\u001b[0m\u001b[0;34m[\u001b[0m\u001b[0;36m1\u001b[0m\u001b[0;34m]\u001b[0m\u001b[0;34m-\u001b[0m\u001b[0mmu\u001b[0m\u001b[0;34m[\u001b[0m\u001b[0;36m0\u001b[0m\u001b[0;34m]\u001b[0m\u001b[0;34m,\u001b[0m\u001b[0mmu\u001b[0m\u001b[0;34m[\u001b[0m\u001b[0;36m1\u001b[0m\u001b[0;34m]\u001b[0m\u001b[0;34m-\u001b[0m\u001b[0mmu\u001b[0m\u001b[0;34m[\u001b[0m\u001b[0;36m0\u001b[0m\u001b[0;34m]\u001b[0m\u001b[0;34m]\u001b[0m\u001b[0;34m,\u001b[0m \u001b[0;34m'k--'\u001b[0m\u001b[0;34m)\u001b[0m\u001b[0;34m\u001b[0m\u001b[0m\n",
        "\u001b[0;31mTypeError\u001b[0m: 'Text' object is not callable"
       ]
      },
      {
       "metadata": {},
       "output_type": "display_data",
       "png": "[encoded data removed]",
       "text": [
        "<matplotlib.figure.Figure at 0x1120b4350>"
       ]
      },
      {
       "metadata": {},
       "output_type": "display_data",
       "png": "[encoded data removed]",
       "text": [
        "<matplotlib.figure.Figure at 0x1120b4390>"
       ]
      }
     ],
     "prompt_number": 22
    },
    {
     "cell_type": "code",
     "collapsed": false,
     "input": [
      "%%R -i P,pivot\n",
      "plot(ecdf(P), col='green')\n",
      "lines(ecdf(pivot), col='red')\n",
      "ecdf(P)(0.05)"
     ],
     "language": "python",
     "metadata": {},
     "outputs": []
    },
    {
     "cell_type": "markdown",
     "metadata": {},
     "source": [
      "## The effect of the boundary.\n",
      "\n",
      "What if we change to have a wider boundary?"
     ]
    },
    {
     "cell_type": "code",
     "collapsed": false,
     "input": [
      "sequential_test = SPRT(lambda n: 5 * np.sqrt(n), nmin=3, nmax=20)\n",
      "\n",
      "mu, sigma = np.array([4,6]), 1\n",
      "simulate = lambda mu: np.random.standard_normal((sequential_test.nmax,2)) * sigma + mu[None,:]\n"
     ],
     "language": "python",
     "metadata": {},
     "outputs": []
    },
    {
     "cell_type": "code",
     "collapsed": false,
     "input": [
      "P = []\n",
      "pivot = []\n",
      "nsim = 500\n",
      "\n",
      "naive = plt.figure(figsize=(10,8)).gca()\n",
      "\n",
      "for i in range(nsim):\n",
      "    Z = simulate(mu)\n",
      "\n",
      "    results = sequential_test(Z, sigma=sigma)\n",
      "    results.alpha = 0.1\n",
      "    \n",
      "    P.append(results.pvalue(truth=0))\n",
      "    pivot.append(results.pvalue(truth=mu[1]-mu[0]))\n",
      "    \n",
      "    if i < 100:\n",
      "        if (results.naive_interval[0] < mu[1] - mu[0] and\n",
      "            results.naive_interval[1] > mu[1] - mu[0]):\n",
      "            naive.plot([i,i], results.naive_interval, linewidth=3, alpha=0.5, color='green')\n",
      "        else:\n",
      "            naive.plot([i,i], results.naive_interval, linewidth=3, alpha=0.5, color='red')\n",
      "        \n",
      "naive.plot([0,nsim], [mu[1]-mu[0],mu[1]-mu[0]], 'k--')\n",
      "naive.plot([0,nsim], [0,0], 'gray')\n",
      "naive.set_xlim([0,100])"
     ],
     "language": "python",
     "metadata": {},
     "outputs": []
    },
    {
     "cell_type": "code",
     "collapsed": false,
     "input": [
      "%%R -i P,pivot\n",
      "plot(ecdf(P), col='green')\n",
      "lines(ecdf(pivot), col='red')\n",
      "ecdf(P)(0.05)"
     ],
     "language": "python",
     "metadata": {},
     "outputs": []
    },
    {
     "cell_type": "markdown",
     "metadata": {},
     "source": [
      "In short, with a wider boundary, the intervals seem smaller but our conditional test \n",
      "seems to have less power. Let's also take a few more samples."
     ]
    },
    {
     "cell_type": "code",
     "collapsed": false,
     "input": [
      "P = []\n",
      "pivot = []\n",
      "nsim = 500\n",
      "\n",
      "naive = plt.figure(figsize=(10,8)).gca()\n",
      "\n",
      "for i in range(nsim):\n",
      "    Z = simulate(mu)\n",
      "\n",
      "    results = sequential_test(Z, sigma=sigma, extra_samples=5)\n",
      "    results.alpha = 0.1\n",
      "    \n",
      "    P.append(results.pvalue(truth=0))\n",
      "    pivot.append(results.pvalue(truth=mu[1]-mu[0]))\n",
      "    \n",
      "    if i < 100:\n",
      "        if (results.naive_interval[0] < mu[1] - mu[0] and\n",
      "            results.naive_interval[1] > mu[1] - mu[0]):\n",
      "            naive.plot([i,i], results.naive_interval, linewidth=3, alpha=0.5, color='green')\n",
      "        else:\n",
      "            naive.plot([i,i], results.naive_interval, linewidth=3, alpha=0.5, color='red')\n",
      "        \n",
      "naive.plot([0,nsim], [mu[1]-mu[0],mu[1]-mu[0]], 'k--')\n",
      "naive.plot([0,nsim], [0,0], 'gray')\n",
      "naive.set_xlim([0,100])"
     ],
     "language": "python",
     "metadata": {},
     "outputs": []
    },
    {
     "cell_type": "code",
     "collapsed": false,
     "input": [
      "%%R -i P,pivot\n",
      "plot(ecdf(P), col='green')\n",
      "lines(ecdf(pivot), col='red')\n",
      "ecdf(P)(0.05)"
     ],
     "language": "python",
     "metadata": {},
     "outputs": []
    },
    {
     "cell_type": "code",
     "collapsed": false,
     "input": [],
     "language": "python",
     "metadata": {},
     "outputs": []
    }
   ],
   "metadata": {}
  }
 ]
}