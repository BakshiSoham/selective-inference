{
 "metadata": {
  "name": ""
 },
 "nbformat": 3,
 "nbformat_minor": 0,
 "worksheets": [
  {
   "cells": [
    {
     "cell_type": "code",
     "collapsed": false,
     "input": [
      "import numpy as np\n",
      "import selection.truncated; reload(selection.truncated)\n",
      "from selection.truncated import *\n",
      "from mpmath import mp\n",
      "mp.dps = 30\n",
      "import nose.tools as nt\n",
      "%load_ext rmagic\n",
      "%pylab inline"
     ],
     "language": "python",
     "metadata": {},
     "outputs": [
      {
       "output_type": "stream",
       "stream": "stdout",
       "text": [
        "Populating the interactive namespace from numpy and matplotlib\n"
       ]
      }
     ],
     "prompt_number": 1
    },
    {
     "cell_type": "markdown",
     "metadata": {},
     "source": [
      "This is my attempt to port Will's UMPU to python. First I will see if I can just run it from python:"
     ]
    },
    {
     "cell_type": "code",
     "collapsed": false,
     "input": [
      "%%R\n",
      "### Construct UMAU intervals for a truncated Gaussian\n",
      "\n",
      "## Simple functions for specifying and checking a \"cutoffs\" object, which\n",
      "##   is just a matrix, each of whose rows is a non-empty real interval (infinite endpoints allowed)\n",
      "\n",
      "check.cutoffs <- function(cutoffs) {\n",
      "    if(!is.matrix(cutoffs) || dim(cutoffs)[2] != 2) stop(\"cutoffs should be a matrix with 2 columns\")\n",
      "    if(sum(cutoffs[,2] <= cutoffs[,1]) > 0) stop(\"all right endpoints should be > left endpoints\")\n",
      "    if(sum(diff(c(t(cutoffs))) <= 0) > 0) stop(\"endpoints should be strictly increasing\")\n",
      "}"
     ],
     "language": "python",
     "metadata": {},
     "outputs": [],
     "prompt_number": 2
    },
    {
     "cell_type": "markdown",
     "metadata": {},
     "source": [
      "## Negation"
     ]
    },
    {
     "cell_type": "code",
     "collapsed": false,
     "input": [
      "%%R\n",
      "negate.cutoffs <- function(cutoffs) {\n",
      "    -cutoffs[nrow(cutoffs):1,2:1,drop=FALSE]\n",
      "}\n",
      "\n",
      "negate.cutoffs(rbind(c(-Inf,-4),c(-3,-2),c(7,Inf)))"
     ],
     "language": "python",
     "metadata": {},
     "outputs": [
      {
       "metadata": {},
       "output_type": "display_data",
       "text": [
        "     [,1] [,2]\n",
        "[1,] -Inf   -7\n",
        "[2,]    2    3\n",
        "[3,]    4  Inf\n"
       ]
      }
     ],
     "prompt_number": 3
    },
    {
     "cell_type": "code",
     "collapsed": false,
     "input": [
      "tg = truncated_gaussian([(-np.inf,-4), (-3,-2), (7, np.inf)])\n",
      "tg.negated.intervals"
     ],
     "language": "python",
     "metadata": {},
     "outputs": [
      {
       "metadata": {},
       "output_type": "pyout",
       "prompt_number": 4,
       "text": [
        "array([[-inf,  -7.],\n",
        "       [  2.,   3.],\n",
        "       [  4.,  inf]])"
       ]
      }
     ],
     "prompt_number": 4
    },
    {
     "cell_type": "markdown",
     "metadata": {},
     "source": [
      "## Two-sided"
     ]
    },
    {
     "cell_type": "code",
     "collapsed": false,
     "input": [
      "%%R\n",
      "two.sided.cutoff <- function(x) rbind(neg=c(-Inf,-abs(x)),pos=c(abs(x),Inf))\n",
      "two.sided.cutoff(3)"
     ],
     "language": "python",
     "metadata": {},
     "outputs": [
      {
       "metadata": {},
       "output_type": "display_data",
       "text": [
        "    [,1] [,2]\n",
        "neg -Inf   -3\n",
        "pos    3  Inf\n"
       ]
      }
     ],
     "prompt_number": 5
    },
    {
     "cell_type": "code",
     "collapsed": false,
     "input": [
      "three = truncated_gaussian.twosided(3)\n",
      "three.intervals"
     ],
     "language": "python",
     "metadata": {},
     "outputs": [
      {
       "metadata": {},
       "output_type": "pyout",
       "prompt_number": 6,
       "text": [
        "array([[-inf,  -3.],\n",
        "       [  3.,  inf]])"
       ]
      }
     ],
     "prompt_number": 6
    },
    {
     "cell_type": "markdown",
     "metadata": {},
     "source": [
      "## `pnorm.cutoffs`"
     ]
    },
    {
     "cell_type": "code",
     "collapsed": false,
     "input": [
      "%%R\n",
      "\n",
      "\n",
      "## Compute Phi(b-mu) - Phi(a-mu) in a numerically robust way\n",
      "## mu can be a vector\n",
      "pnorm.interval <- function(mu, ab) {\n",
      "    ifelse(mean(ab) - mu < 0,\n",
      "           pnorm(ab[2] - mu) - pnorm(ab[1] - mu),\n",
      "           pnorm(mu - ab[1]) - pnorm(mu - ab[2]))\n",
      "}\n",
      "\n",
      "## Compute Phi(b-mu) - Phi(a-mu) for each [a,b] in S\n",
      "pnorm.cutoffs <- function(mu, cutoffs) {\n",
      "    ret <- apply(cutoffs, 1, function(cut) pnorm.interval(mu, cut))\n",
      "    if(!is.matrix(ret)) ret <- t(ret)\n",
      "    dimnames(ret) <- list(as.character(mu),row.names(cutoffs))\n",
      "    ret\n",
      "}\n",
      "\n",
      "print(pnorm.cutoffs(-1:1,two.sided.cutoff(3)))\n",
      "print(pnorm.cutoffs(-1,two.sided.cutoff(3)))\n"
     ],
     "language": "python",
     "metadata": {},
     "outputs": [
      {
       "metadata": {},
       "output_type": "display_data",
       "text": [
        "            neg          pos\n",
        "-1 2.275013e-02 3.167124e-05\n",
        "0  1.349898e-03 1.349898e-03\n",
        "1  3.167124e-05 2.275013e-02\n",
        "          neg          pos\n",
        "-1 0.02275013 3.167124e-05\n"
       ]
      }
     ],
     "prompt_number": 7
    },
    {
     "cell_type": "code",
     "collapsed": false,
     "input": [
      "for mu in [-1,0,1]:\n",
      "    three.mu = mu\n",
      "    print np.array(three.P, np.float128)\n"
     ],
     "language": "python",
     "metadata": {},
     "outputs": [
      {
       "output_type": "stream",
       "stream": "stdout",
       "text": [
        "[ 0.022750132  3.1671242e-05]\n",
        "[ 0.001349898  0.001349898]\n",
        "[ 3.1671242e-05  0.022750132]\n"
       ]
      }
     ],
     "prompt_number": 8
    },
    {
     "cell_type": "markdown",
     "metadata": {},
     "source": [
      "## `dnorm.cutoffs`"
     ]
    },
    {
     "cell_type": "code",
     "collapsed": false,
     "input": [
      "%%R\n",
      "## Compute phi(b-mu) - phi(a-mu) for each [a,b] in S\n",
      "## mu can be a vector\n",
      "dnorm.cutoffs <- function(mu, cutoffs) {\n",
      "    ret <- apply(cutoffs, 1, function(cut) dnorm(cut[2] - mu) - dnorm(cut[1] - mu))\n",
      "    if(!is.matrix(ret)) ret <- t(ret)\n",
      "    dimnames(ret) <- list(as.character(mu),row.names(cutoffs))\n",
      "    ret\n",
      "}\n",
      "\n",
      "print(dnorm.cutoffs(-1:1,two.sided.cutoff(3)))\n",
      "print(dnorm.cutoffs(-1,two.sided.cutoff(3)))\n"
     ],
     "language": "python",
     "metadata": {},
     "outputs": [
      {
       "metadata": {},
       "output_type": "display_data",
       "text": [
        "            neg           pos\n",
        "-1 0.0539909665 -0.0001338302\n",
        "0  0.0044318484 -0.0044318484\n",
        "1  0.0001338302 -0.0539909665\n",
        "          neg           pos\n",
        "-1 0.05399097 -0.0001338302\n"
       ]
      }
     ],
     "prompt_number": 9
    },
    {
     "cell_type": "code",
     "collapsed": false,
     "input": [
      "for mu in [-1,0,1]:\n",
      "    three.mu = mu\n",
      "    print np.array(three.D[:,1] - three.D[:,0], np.float128)\n"
     ],
     "language": "python",
     "metadata": {},
     "outputs": [
      {
       "output_type": "stream",
       "stream": "stdout",
       "text": [
        "[ 0.053990967 -0.00013383023]\n",
        "[ 0.0044318484 -0.0044318484]\n",
        "[ 0.00013383023 -0.053990967]\n"
       ]
      }
     ],
     "prompt_number": 10
    },
    {
     "cell_type": "markdown",
     "metadata": {},
     "source": [
      "## `Fmu`"
     ]
    },
    {
     "cell_type": "code",
     "collapsed": false,
     "input": [
      "%%R\n",
      "\n",
      "## Compute P_mu(X<x)\n",
      "## mu CANNOT be a vector, pk is a one-row matrix or vector\n",
      "## x must be in one of the intervals\n",
      "F.mu <- function(x, mu, cutoffs, pk=pnorm.cutoffs(mu, cutoffs)) {\n",
      "    stopifnot(length(mu)==1, nrow(pk)==1 || !is.matrix(pk))\n",
      "    K <- length(pk)\n",
      "    p <- sum(pk)\n",
      "    k <- which(x >= cutoffs[,1] & x <= cutoffs[,2])\n",
      "    stopifnot(length(k)==1)\n",
      "    (sum(pk[(1:K) < k]) + pnorm.interval(mu, c(cutoffs[k,1], x)) ) / p\n",
      "}\n",
      "\n",
      "F.mu(-10.01,0,two.sided.cutoff(10))"
     ],
     "language": "python",
     "metadata": {},
     "outputs": [
      {
       "metadata": {},
       "output_type": "display_data",
       "text": [
        "[1] 0.4519527\n"
       ]
      }
     ],
     "prompt_number": 11
    },
    {
     "cell_type": "code",
     "collapsed": false,
     "input": [
      "%%R\n",
      "F.mu(-9,0,two.sided.cutoff(10))"
     ],
     "language": "python",
     "metadata": {},
     "outputs": [
      {
       "output_type": "stream",
       "stream": "stdout",
       "text": [
        "Error: length(k) == 1 is not TRUE\n",
        "In addition: There were 40 warnings (use warnings() to see them)\n",
        "Error: length(k) == 1 is not TRUE\n"
       ]
      }
     ],
     "prompt_number": 12
    },
    {
     "cell_type": "code",
     "collapsed": false,
     "input": [
      "%%R\n",
      "F.mu(10.2,0,two.sided.cutoff(10))"
     ],
     "language": "python",
     "metadata": {},
     "outputs": [
      {
       "metadata": {},
       "output_type": "display_data",
       "text": [
        "[1] 0.9349487\n"
       ]
      }
     ],
     "prompt_number": 13
    },
    {
     "cell_type": "code",
     "collapsed": false,
     "input": [
      "ten = truncated_gaussian.twosided(10)\n",
      "print np.array(ten.CDF(-10.01), np.float128)"
     ],
     "language": "python",
     "metadata": {},
     "outputs": [
      {
       "output_type": "stream",
       "stream": "stdout",
       "text": [
        "0.451952749586\n"
       ]
      }
     ],
     "prompt_number": 14
    },
    {
     "cell_type": "code",
     "collapsed": false,
     "input": [
      "nt.assert_raises(ValueError, ten.CDF, (-9,))"
     ],
     "language": "python",
     "metadata": {},
     "outputs": [],
     "prompt_number": 15
    },
    {
     "cell_type": "code",
     "collapsed": false,
     "input": [
      "print np.array(ten.CDF(10.2), np.float128)"
     ],
     "language": "python",
     "metadata": {},
     "outputs": [
      {
       "output_type": "stream",
       "stream": "stdout",
       "text": [
        "0.934948711667\n"
       ]
      }
     ],
     "prompt_number": 16
    },
    {
     "cell_type": "markdown",
     "metadata": {},
     "source": [
      "## `Fmu.inv` and `c2`"
     ]
    },
    {
     "cell_type": "code",
     "collapsed": false,
     "input": [
      "%%R\n",
      "\n",
      "## Compute the inverse of the previous function\n",
      "## mu CANNOT be a vector, pk is a one-row matrix or vector\n",
      "F.inv.mu <- function(F, mu, cutoffs, pk=pnorm.cutoffs(mu, cutoffs)) {\n",
      "    stopifnot(length(mu)==1, nrow(pk)==1 || !is.matrix(pk))\n",
      "    p <- sum(pk)\n",
      "    k <- max(which(c(0,cumsum(pk))/p < F))\n",
      "    pnorm.increment <- p*F - c(0,cumsum(pk))[k]\n",
      "    if(mean(cutoffs[k,]) < 0)\n",
      "\tmu + qnorm(pnorm(cutoffs[k,1]-mu) + pnorm.increment)\n",
      "    else\n",
      "        mu + qnorm(pnorm(cutoffs[k,1]-mu,lower.tail=FALSE) - pnorm.increment,lower.tail=FALSE)\n",
      "}\n",
      "\n",
      "        ## Compute c2(c1) for a single c1\n",
      "## mu CANNOT be a vector, pk is a one-row matrix or vector\n",
      "c2.single <- function(c1, mu, alpha, cutoffs, pk=pnorm.cutoffs(mu, cutoffs)) {\n",
      "    stopifnot(length(mu)==1, nrow(pk)==1 || !is.matrix(pk))\n",
      "    K <- length(pk)\n",
      "    \n",
      "    alpha1 <- F.mu(c1, mu, cutoffs, pk)\n",
      "    if(alpha1 > alpha) return(NA)\n",
      "\n",
      "    alpha2 <- alpha-alpha1\n",
      "    return(F.inv.mu(1-alpha2, mu, cutoffs, pk))\n",
      "}\n",
      "\n",
      "c2.single(-10.3, 0, .05, two.sided.cutoff(10))\n",
      "F.mu(-10.3, 0, two.sided.cutoff(10))\n",
      "\n",
      "## Do the same, for a vector of c1 and mu\n",
      "c2 <- function(c1, mu, alpha, cutoffs, pk=pnorm.cutoffs(mu, cutoffs)) {\n",
      "    sapply(1:length(c1),function(i)\n",
      "           c2.single(c1[i], mu[i], alpha, cutoffs,\n",
      "                     pk[i,,drop=FALSE]))\n",
      "}\n",
      "c2(-10.3, 0, .05, two.sided.cutoff(10))"
     ],
     "language": "python",
     "metadata": {},
     "outputs": [
      {
       "metadata": {},
       "output_type": "display_data",
       "text": [
        "     pos \n",
        "10.28548 \n"
       ]
      }
     ],
     "prompt_number": 17
    },
    {
     "cell_type": "code",
     "collapsed": false,
     "input": [
      "ten.mu = 0\n",
      "print np.array(ten.right_endpoint(-10.3, 0.05), np.float128)"
     ],
     "language": "python",
     "metadata": {},
     "outputs": [
      {
       "output_type": "stream",
       "stream": "stdout",
       "text": [
        "10.2854765288\n"
       ]
      }
     ],
     "prompt_number": 18
    },
    {
     "cell_type": "markdown",
     "metadata": {},
     "source": [
      "## `g.mu`"
     ]
    },
    {
     "cell_type": "code",
     "collapsed": false,
     "input": [
      "%%R\n",
      "\n",
      "## Compute g_mu(c1) for a single mu and c1 (see LaTeX documentation)\n",
      "## c1 and mu CANNOT be vectors, pk is NOT a matrix\n",
      "g.mu.single <- function(c1, mu, alpha, cutoffs,\n",
      "                        pk=pnorm.cutoffs(mu, cutoffs), dk=dnorm.cutoffs(mu, cutoffs)) {\n",
      "    const <- (1-alpha) * (sum(-dk) + mu * sum(pk))\n",
      "    cc2 <- c2(c1, mu, alpha, cutoffs, pk)\n",
      "    if(is.na(cc2)) return(Inf)\n",
      "\n",
      "    K <- length(pk)\n",
      "    p <- sum(pk)\n",
      "    k1 <- which(c1 >= cutoffs[,1] & c1 <= cutoffs[,2])\n",
      "    stopifnot(length(k1)==1)\n",
      "    k2 <- which(cc2 >= cutoffs[,1] & cc2 <= cutoffs[,2])\n",
      "    stopifnot(length(k2)==1)\n",
      "\n",
      "    if(k1 < k2) {\n",
      "        sum(-dk[(1:K) > k1 & (1:K) < k2]) + mu * sum(pk[(1:K) > k1 & (1:K) < k2]) +\n",
      "            - dnorm(cutoffs[k1,2] - mu) + dnorm(c1 - mu) - dnorm(cc2 - mu) + dnorm(cutoffs[k2,1] - mu) +\n",
      "                mu * (pnorm.interval(mu,c(c1,cutoffs[k1,2])) + pnorm.interval(mu,c(cutoffs[k2,1], cc2))) -\n",
      "                    const\n",
      "    } else {\n",
      "        - dnorm(cc2 - mu) + dnorm(c1 - mu) + mu * pnorm.interval(mu,c(c1,cc2)) - const\n",
      "    }\n",
      "}\n",
      "## Compute g_mu(c1) for a vector of mu and c1 (see LaTeX documentation)\n",
      "g.mu <- function(c1, mu, alpha, cutoffs,\n",
      "                 pk=pnorm.cutoffs(mu, cutoffs), dk=dnorm.cutoffs(mu, cutoffs)) {\n",
      "    sapply(1:length(c1),function(i)\n",
      "           g.mu.single(c1[i], mu[i], alpha, cutoffs,\n",
      "                       pk[i,,drop=FALSE], dk[i,,drop=FALSE]))\n",
      "}\n",
      "\n",
      "           \n",
      "    \n",
      "g.mu(-10.3,1,0.05, two.sided.cutoff(10))    "
     ],
     "language": "python",
     "metadata": {},
     "outputs": [
      {
       "metadata": {},
       "output_type": "display_data",
       "text": [
        "          neg \n",
        "-1.803609e-21 \n"
       ]
      }
     ],
     "prompt_number": 19
    },
    {
     "cell_type": "code",
     "collapsed": false,
     "input": [
      "ten.mu = 1\n",
      "print np.array(ten.G(-10.3, 0.05), np.float128)"
     ],
     "language": "python",
     "metadata": {},
     "outputs": [
      {
       "output_type": "stream",
       "stream": "stdout",
       "text": [
        "-1.80360879724e-21\n"
       ]
      }
     ],
     "prompt_number": 20
    },
    {
     "cell_type": "code",
     "collapsed": false,
     "input": [
      "%%R\n",
      "\n",
      "dnorm.cutoffs(c(0,0),two.sided.cutoff(10))\n",
      "c.vals <- seq(-10.3,-10.28,.001)\n",
      "plot(c.vals,g.mu(c.vals,rep(0,length(c.vals)), .05, two.sided.cutoff(10)))\n",
      "g.mu(c.vals,rep(0,length(c.vals)), .05, two.sided.cutoff(10))"
     ],
     "language": "python",
     "metadata": {},
     "outputs": [
      {
       "metadata": {},
       "output_type": "display_data",
       "text": [
        "          neg           neg           neg           neg           neg \n",
        "-5.905076e-25 -5.147271e-25 -4.381626e-25 -3.608059e-25 -2.826490e-25 \n",
        "          neg           neg           neg           neg           neg \n",
        "-2.036834e-25 -1.239009e-25 -4.329295e-26  3.814891e-26  1.204333e-25 \n",
        "          neg           neg           neg           neg           neg \n",
        " 2.035691e-25  2.875649e-25  3.724297e-25  4.581725e-25  5.448025e-25 \n",
        "          neg           neg           neg           neg           neg \n",
        " 6.323287e-25  7.207605e-25  8.101074e-25  9.003787e-25  9.915841e-25 \n",
        "          neg \n",
        " 1.083733e-24 \n"
       ]
      },
      {
       "metadata": {},
       "output_type": "display_data",
       "png": "[encoded data removed]"
      }
     ],
     "prompt_number": 21
    },
    {
     "cell_type": "code",
     "collapsed": false,
     "input": [
      "right_endpoints = np.arange(-10.3,-10.28,0.001)\n",
      "mus = np.zeros_like(right_endpoints)\n",
      "Gvals = G(right_endpoints, mus, 0.05, ten)\n",
      "f = plt.figure(figsize=(8,8))\n",
      "ax = f.gca()\n",
      "ax.plot(right_endpoints, Gvals)\n",
      "np.array(Gvals)"
     ],
     "language": "python",
     "metadata": {},
     "outputs": [
      {
       "metadata": {},
       "output_type": "pyout",
       "prompt_number": 22,
       "text": [
        "array([ -5.90507554e-25,  -5.14727091e-25,  -4.38162587e-25,\n",
        "        -3.60805941e-25,  -2.82648970e-25,  -2.03683402e-25,\n",
        "        -1.23900879e-25,  -4.32929536e-26,   3.81489112e-26,\n",
        "         1.20433343e-25,   2.03569061e-25,   2.87564877e-25,\n",
        "         3.72429699e-25,   4.58172529e-25,   5.44802465e-25,\n",
        "         6.32328703e-25,   7.20760541e-25,   8.10107374e-25,\n",
        "         9.00378701e-25,   9.91584123e-25,   1.08373335e-24])"
       ]
      },
      {
       "metadata": {},
       "output_type": "display_data",
       "png": "[encoded data removed]",
       "text": [
        "<matplotlib.figure.Figure at 0x11179d9d0>"
       ]
      }
     ],
     "prompt_number": 22
    },
    {
     "cell_type": "code",
     "collapsed": false,
     "input": [
      "%%R\n",
      "g.mu(-10.2925, 0, .05, two.sided.cutoff(10))"
     ],
     "language": "python",
     "metadata": {},
     "outputs": [
      {
       "metadata": {},
       "output_type": "display_data",
       "text": [
        "          neg \n",
        "-2.676801e-27 \n"
       ]
      }
     ],
     "prompt_number": 23
    },
    {
     "cell_type": "code",
     "collapsed": false,
     "input": [
      "ten.mu = 0\n",
      "print np.array(ten.G(-10.2925,0.05), np.float128)"
     ],
     "language": "python",
     "metadata": {},
     "outputs": [
      {
       "output_type": "stream",
       "stream": "stdout",
       "text": [
        "-2.67680067788e-27\n"
       ]
      }
     ],
     "prompt_number": 24
    },
    {
     "cell_type": "code",
     "collapsed": false,
     "input": [
      "%%R\n",
      "## Compute g_mu'(c1)\n",
      "dg.mu <- function(c1, mu, alpha, cutoffs,\n",
      "                  pk=pnorm.cutoffs(mu, cutoffs)) {\n",
      "    (c2(c1, mu, alpha, cutoffs, pk) - c1) * dnorm(c1 - mu)\n",
      "}\n"
     ],
     "language": "python",
     "metadata": {},
     "outputs": [],
     "prompt_number": 25
    },
    {
     "cell_type": "code",
     "collapsed": false,
     "input": [
      "approxG = G(right_endpoints-0.001, mus, 0.05, ten) + dG(right_endpoints-0.001, mus, 0.05, ten) * 0.001\n",
      "ax.scatter(right_endpoints, approxG)\n",
      "ax.figure"
     ],
     "language": "python",
     "metadata": {},
     "outputs": [
      {
       "metadata": {},
       "output_type": "pyout",
       "png": "[encoded data removed]",
       "prompt_number": 26,
       "text": [
        "<matplotlib.figure.Figure at 0x11179d9d0>"
       ]
      }
     ],
     "prompt_number": 26
    },
    {
     "cell_type": "code",
     "collapsed": false,
     "input": [
      "%%R\n",
      "mu.vals <- seq(-10,15,.1)\n",
      "plot(mu.vals, g.mu(rep(-10.2925,length(mu.vals)), mu.vals, .05, two.sided.cutoff(10)))\n",
      "g.mu(rep(-10.2925,length(mu.vals)), mu.vals, .05, two.sided.cutoff(10))\n",
      "g.mu(-10.2925,2, .05, two.sided.cutoff(10))\n"
     ],
     "language": "python",
     "metadata": {},
     "outputs": [
      {
       "metadata": {},
       "output_type": "display_data",
       "text": [
        "          neg \n",
        "-1.107319e-17 \n"
       ]
      },
      {
       "metadata": {},
       "output_type": "display_data",
       "png": "[encoded data removed]"
      }
     ],
     "prompt_number": 27
    },
    {
     "cell_type": "code",
     "collapsed": false,
     "input": [
      "f = plt.figure(figsize=(8,8))\n",
      "mus = np.arange(-10,15,0.1)\n",
      "Gvals = G(np.ones_like(mus)*(-10.2925), mus, 0.05, ten)\n",
      "plt.plot(mus, Gvals, linewidth=2, color='red')\n"
     ],
     "language": "python",
     "metadata": {},
     "outputs": [
      {
       "metadata": {},
       "output_type": "pyout",
       "prompt_number": 28,
       "text": [
        "[<matplotlib.lines.Line2D at 0x112811750>]"
       ]
      },
      {
       "metadata": {},
       "output_type": "display_data",
       "png": "[encoded data removed]",
       "text": [
        "<matplotlib.figure.Figure at 0x1117acc90>"
       ]
      }
     ],
     "prompt_number": 28
    },
    {
     "cell_type": "code",
     "collapsed": false,
     "input": [
      "%%R\n",
      "dg.mu(-10.2925, 8, .05, two.sided.cutoff(10))"
     ],
     "language": "python",
     "metadata": {},
     "outputs": [
      {
       "metadata": {},
       "output_type": "display_data",
       "text": [
        "         pos \n",
        "1.859287e-72 \n"
       ]
      }
     ],
     "prompt_number": 29
    },
    {
     "cell_type": "code",
     "collapsed": false,
     "input": [
      "ten.mu = 8\n",
      "print np.array(ten.dG(-10.2925, 0.05), np.float128)"
     ],
     "language": "python",
     "metadata": {},
     "outputs": [
      {
       "output_type": "stream",
       "stream": "stdout",
       "text": [
        "1.85928694146e-72\n"
       ]
      }
     ],
     "prompt_number": 30
    },
    {
     "cell_type": "code",
     "collapsed": false,
     "input": [
      "%%R\n",
      "mu.vals <- seq(-.001,.001,.0001)\n",
      "plot(mu.vals, g.mu(rep(-10.2925,length(mu.vals)), mu.vals, .05, two.sided.cutoff(10)))\n"
     ],
     "language": "python",
     "metadata": {},
     "outputs": [
      {
       "metadata": {},
       "output_type": "display_data",
       "png": "[encoded data removed]"
      }
     ],
     "prompt_number": 31
    },
    {
     "cell_type": "code",
     "collapsed": false,
     "input": [
      "mus = np.arange(-0.001,0.001,0.0001)\n",
      "Gvals = G(-10.2925*np.ones_like(mus), mus, 0.05, ten)\n",
      "f = plt.figure(figsize=(8,8))\n",
      "ax = f.gca()\n",
      "ax.plot(mus, Gvals, linewidth=2, color='red')\n"
     ],
     "language": "python",
     "metadata": {},
     "outputs": [
      {
       "metadata": {},
       "output_type": "pyout",
       "prompt_number": 32,
       "text": [
        "[<matplotlib.lines.Line2D at 0x1121cd450>]"
       ]
      },
      {
       "metadata": {},
       "output_type": "display_data",
       "png": "[encoded data removed]",
       "text": [
        "<matplotlib.figure.Figure at 0x1121c8950>"
       ]
      }
     ],
     "prompt_number": 32
    },
    {
     "cell_type": "markdown",
     "metadata": {},
     "source": [
      "## `umau.normal.unit.var.upper.single`"
     ]
    },
    {
     "cell_type": "code",
     "collapsed": false,
     "input": [
      "%%R\n",
      "\n",
      "## Compute upper CI endpoint, for a single x, when sigma=1\n",
      "umau.normal.unit.var.upper.single <- function(x, cutoffs, alpha=.05, mu.lo=x, mu.hi=x+2, tol=1E-8) {\n",
      "    check.cutoffs(cutoffs)\n",
      "\n",
      "    mu.too.low <- function(mu) {\n",
      "        g.mu(x,mu,alpha,cutoffs) > 0\n",
      "    }\n",
      "    mu.too.high <- function(mu) {\n",
      "        g.mu(x,mu,alpha,cutoffs) < 0\n",
      "    }\n",
      "\n",
      "    while(mu.too.high(mu.lo)) {\n",
      "        mu.hi <- mu.lo\n",
      "        mu.lo <- mu.lo - 2\n",
      "    }\n",
      "    while(mu.too.low(mu.hi)) {\n",
      "        mu.lo <- mu.hi\n",
      "        mu.hi <- mu.hi + 2\n",
      "    }\n",
      "    while(mu.hi - mu.lo > tol) {\n",
      "        mu.avg <- (mu.lo + mu.hi) / 2\n",
      "        if(mu.too.high(mu.avg)) {\n",
      "            mu.hi <- mu.avg\n",
      "        } else {\n",
      "            mu.lo <- mu.avg\n",
      "        }\n",
      "    }\n",
      "    mu.avg\n",
      "}\n",
      "\n",
      "\n",
      "print(umau.normal.unit.var.upper.single(-10.29, two.sided.cutoff(10), mu.lo=-1, mu.hi=5))\n",
      "print(umau.normal.unit.var.upper.single(-10.2925, two.sided.cutoff(10), mu.lo=-1, mu.hi=5))\n"
     ],
     "language": "python",
     "metadata": {},
     "outputs": [
      {
       "metadata": {},
       "output_type": "display_data",
       "text": [
        "[1] 0.03622952\n",
        "[1] -0.0005936157\n"
       ]
      }
     ],
     "prompt_number": 33
    },
    {
     "cell_type": "code",
     "collapsed": false,
     "input": [
      "L, U = UMAU_interval(-10.29, 0.05, ten)\n",
      "ten.mu = U\n",
      "print U, ten.G(-10.29, 0.05)\n",
      "ten_ng = ten.negated\n",
      "ten_ng.mu = -L\n",
      "print L, ten_ng.G(10.29, 0.05)\n"
     ],
     "language": "python",
     "metadata": {},
     "outputs": [
      {
       "output_type": "stream",
       "stream": "stdout",
       "text": [
        "0.0362295201421 -2.03179614112e-32\n",
        "-11.8430293062 1.35619515618e-10\n"
       ]
      }
     ],
     "prompt_number": 34
    },
    {
     "cell_type": "markdown",
     "metadata": {},
     "source": [
      "## Intervals"
     ]
    },
    {
     "cell_type": "code",
     "collapsed": false,
     "input": [
      "%%R\n",
      "\n",
      "## Compute both CI endpoints, for a single x\n",
      "umau.normal.single <- function(x, cutoffs, sigma=1, alpha=.05, mu.lo=x, mu.hi=x+2, tol=1E-8) {\n",
      "    mu.upper <- sigma * umau.normal.unit.var.upper.single(x/sigma, cutoffs/sigma, alpha,\n",
      "                                                          mu.lo/sigma, mu.hi/sigma, tol)\n",
      "    mu.lower <- -sigma * umau.normal.unit.var.upper.single(-x/sigma, negate.cutoffs(cutoffs)/sigma, alpha,\n",
      "                                                           -mu.hi/sigma, -mu.lo/sigma, tol)\n",
      "    return(c(mu.lower, mu.upper))\n",
      "}\n",
      "\n",
      "LU = umau.normal.single(10.29, two.sided.cutoff(10))\n",
      "print(umau.normal.single(1+10.29, 1+two.sided.cutoff(10)))\n",
      "print(umau.normal.single(-10.29, two.sided.cutoff(10)))\n",
      "print(umau.normal.single(1-10.29, 1+two.sided.cutoff(10)))"
     ],
     "language": "python",
     "metadata": {},
     "outputs": [
      {
       "metadata": {},
       "output_type": "display_data",
       "text": [
        "[1]  0.9637705 12.8430293\n",
        "[1] -11.84302931   0.03622952\n",
        "[1] -10.84303   1.03623\n"
       ]
      }
     ],
     "prompt_number": 35
    },
    {
     "cell_type": "code",
     "collapsed": false,
     "input": [
      "%%R\n",
      "# check the value of g.mu\n",
      "LU = umau.normal.single(-10.29, two.sided.cutoff(10))\n",
      "print(g.mu(10.29,-LU[1],0.05, negate.cutoffs(two.sided.cutoff(10))))\n",
      "print(g.mu(-10.29,LU[2],0.05, two.sided.cutoff(10)))\n"
     ],
     "language": "python",
     "metadata": {},
     "outputs": [
      {
       "metadata": {},
       "output_type": "display_data",
       "text": [
        "         neg \n",
        "1.356195e-10 \n",
        "          neg \n",
        "-2.031796e-32 \n"
       ]
      }
     ],
     "prompt_number": 36
    },
    {
     "cell_type": "code",
     "collapsed": false,
     "input": [
      "ten_shift = truncated_gaussian(ten.intervals+1)\n",
      "L, U = UMAU_interval(1-10.29, 0.05, ten_shift)\n",
      "print L, U\n",
      "\n"
     ],
     "language": "python",
     "metadata": {},
     "outputs": [
      {
       "output_type": "stream",
       "stream": "stdout",
       "text": [
        "-10.8430293062 1.03622952014\n"
       ]
      }
     ],
     "prompt_number": 37
    },
    {
     "cell_type": "code",
     "collapsed": false,
     "input": [
      "ten_shift = truncated_gaussian(ten.intervals-1)\n",
      "L, U = UMAU_interval(-1-10.29, 0.05, ten_shift)\n",
      "print L, U"
     ],
     "language": "python",
     "metadata": {},
     "outputs": [
      {
       "output_type": "stream",
       "stream": "stdout",
       "text": [
        "-12.8430293062 -0.963770479858\n"
       ]
      }
     ],
     "prompt_number": 38
    },
    {
     "cell_type": "code",
     "collapsed": false,
     "input": [
      "ten_shift = truncated_gaussian(ten.intervals)\n",
      "L, U = UMAU_interval(10.29, 0.05, ten_shift)\n",
      "print L, U"
     ],
     "language": "python",
     "metadata": {},
     "outputs": [
      {
       "output_type": "stream",
       "stream": "stdout",
       "text": [
        "-0.0362295201421 11.8430293062\n"
       ]
      }
     ],
     "prompt_number": 39
    },
    {
     "cell_type": "markdown",
     "metadata": {},
     "source": [
      "## Plots"
     ]
    },
    {
     "cell_type": "code",
     "collapsed": false,
     "input": [
      "%%R -o X\n",
      "X <- c(seq(-20,-14,1),seq(-13,-10.4,.1),seq(-10.3,-10.06,.02),seq(-10.05,-10.01,.01),seq(-10.01,-10,0.02))"
     ],
     "language": "python",
     "metadata": {},
     "outputs": [],
     "prompt_number": 40
    },
    {
     "cell_type": "code",
     "collapsed": false,
     "input": [
      "intervals = []\n",
      "for x in X:\n",
      "    intervals.append(UMAU_interval(x, 0.05, ten))\n",
      "intervals = np.array(intervals, np.float)\n"
     ],
     "language": "python",
     "metadata": {},
     "outputs": [],
     "prompt_number": 41
    },
    {
     "cell_type": "code",
     "collapsed": false,
     "input": [
      "f = plt.figure(figsize=(10,10))\n",
      "ax = f.gca()\n",
      "ax.plot(X, np.array(intervals)[:,0], linewidth=2, c='red')\n",
      "ax.plot(X, np.array(intervals)[:,1], linewidth=2, c='red')\n",
      "ax.plot(-X, -np.array(intervals)[:,0], linewidth=2, c='red')\n",
      "ax.plot(-X, -np.array(intervals)[:,1], linewidth=2, c='red')\n",
      "R = -np.fabs(X).max(), np.fabs(X).max()\n",
      "ax.plot([R[0],R[1]],[0,0], 'k--')\n",
      "ax.plot([R[0],R[1]],[R[0],R[1]], 'k--')\n",
      "ax.plot([-10,-10], [-100, 100], 'k--')\n",
      "ax.plot([10,10], [-100, 100], 'k--')\n",
      "ax.set_ylim([-22,22])\n"
     ],
     "language": "python",
     "metadata": {},
     "outputs": [
      {
       "metadata": {},
       "output_type": "pyout",
       "prompt_number": 42,
       "text": [
        "(-22, 22)"
       ]
      },
      {
       "metadata": {},
       "output_type": "display_data",
       "png": "[encoded data removed]",
       "text": [
        "<matplotlib.figure.Figure at 0x1121c8ad0>"
       ]
      }
     ],
     "prompt_number": 42
    },
    {
     "cell_type": "code",
     "collapsed": false,
     "input": [
      "ten_mid = truncated_gaussian([(-np.inf,-10),(-.1,0.1),(10,np.inf)])"
     ],
     "language": "python",
     "metadata": {},
     "outputs": [],
     "prompt_number": 43
    },
    {
     "cell_type": "code",
     "collapsed": false,
     "input": [
      "%%R -o X2\n",
      "X2 = seq(-0.1,0.,length=5)"
     ],
     "language": "python",
     "metadata": {},
     "outputs": [],
     "prompt_number": "*"
    },
    {
     "cell_type": "code",
     "collapsed": false,
     "input": [
      "mid_intervals = []\n",
      "for x in X:\n",
      "    mid_intervals.append(UMAU_interval(x, 0.05, ten_mid))\n",
      "mid_intervals = np.array(mid_intervals, np.float)\n",
      "\n",
      "mid_intervals2 = []\n",
      "for x in X2:\n",
      "    mid_intervals2.append(UMAU_interval(x, 0.05, ten_mid))\n",
      "mid_intervals2 = np.array(mid_intervals2, np.float)"
     ],
     "language": "python",
     "metadata": {},
     "outputs": [],
     "prompt_number": "*"
    },
    {
     "cell_type": "code",
     "collapsed": false,
     "input": [
      "f = plt.figure(figsize=(10,10))\n",
      "ax = f.gca()\n",
      "for Z, intervals in zip([X,X2],[mid_intervals, mid_intervals2]):\n",
      "    ax.plot(Z, intervals[:,0], linewidth=2, c='red')\n",
      "    ax.plot(Z, intervals[:,1], linewidth=2, c='red')\n",
      "    ax.plot(-Z, -intervals[:,0], linewidth=2, c='red')\n",
      "    ax.plot(-Z, -intervals[:,1], linewidth=3, c='red')\n",
      "R = -np.fabs(X).max(), np.fabs(X).max()\n",
      "ax.plot([R[0],R[1]],[0,0], 'k--')\n",
      "ax.plot([R[0],R[1]],[R[0],R[1]], 'k--')\n",
      "ax.plot([-10,-10], [-100, 100], 'k--')\n",
      "ax.plot([10,10], [-100, 100], 'k--')\n",
      "ax.set_ylim([-22,22])\n",
      "xlim = ax.get_xlim()"
     ],
     "language": "python",
     "metadata": {},
     "outputs": [],
     "prompt_number": "*"
    },
    {
     "cell_type": "code",
     "collapsed": false,
     "input": [
      "%%R -o X1\n",
      "X1 = c(seq(10.14,10.3,.01),seq(10.4,11,.1),12:20)"
     ],
     "language": "python",
     "metadata": {},
     "outputs": [],
     "prompt_number": "*"
    },
    {
     "cell_type": "code",
     "collapsed": false,
     "input": [
      "one_sided = truncated_gaussian([(10,np.inf)])"
     ],
     "language": "python",
     "metadata": {},
     "outputs": [],
     "prompt_number": "*"
    },
    {
     "cell_type": "code",
     "collapsed": false,
     "input": [
      "one_intervals = []\n",
      "for x in X1:\n",
      "    one_intervals.append(UMAU_interval(x, 0.05, one_sided))\n",
      "one_intervals = np.array(one_intervals, np.float)\n"
     ],
     "language": "python",
     "metadata": {},
     "outputs": [],
     "prompt_number": "*"
    },
    {
     "cell_type": "code",
     "collapsed": false,
     "input": [
      "f = plt.figure(figsize=(10,10))\n",
      "ax = f.gca()\n",
      "ax.plot(X1, np.array(one_intervals)[:,0], linewidth=2, c='red')\n",
      "ax.plot(X1, np.array(one_intervals)[:,1], linewidth=2, c='red')\n",
      "\n",
      "R = -np.fabs(X).max(), np.fabs(X).max()\n",
      "ax.plot([R[0],R[1]],[0,0], 'k--')\n",
      "ax.plot([R[0],R[1]],[R[0],R[1]], 'k--')\n",
      "ax.plot([-10,-10], [-100, 100], 'k--')\n",
      "ax.plot([10,10], [-100, 100], 'k--')\n",
      "ax.set_ylim([-22,22])\n",
      "ax.set_xlim(xlim)"
     ],
     "language": "python",
     "metadata": {},
     "outputs": [],
     "prompt_number": "*"
    },
    {
     "cell_type": "code",
     "collapsed": false,
     "input": [],
     "language": "python",
     "metadata": {},
     "outputs": [],
     "prompt_number": "*"
    }
   ],
   "metadata": {}
  }
 ]
}