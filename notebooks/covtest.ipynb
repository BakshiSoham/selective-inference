{
 "metadata": {
  "name": "",
  "signature": "sha256:22095c49d217538523650ab79f2488ccc74143116c0010f0dca65d1040419e93"
 },
 "nbformat": 3,
 "nbformat_minor": 0,
 "worksheets": [
  {
   "cells": [
    {
     "cell_type": "code",
     "collapsed": false,
     "input": [
      "import numpy as np\n",
      "from statsmodels.distributions import ECDF\n",
      "%pylab inline\n",
      "\n",
      "from selection.lasso import covtest\n",
      "from selection.variance_estimation import draw_truncated\n"
     ],
     "language": "python",
     "metadata": {},
     "outputs": [
      {
       "output_type": "stream",
       "stream": "stdout",
       "text": [
        "Populating the interactive namespace from numpy and matplotlib\n"
       ]
      },
      {
       "output_type": "stream",
       "stream": "stderr",
       "text": [
        "/Users/statguest/anaconda/lib/python2.7/site-packages/selection/lasso.py:37: UserWarning: cvx not available\n",
        "  warnings.warn('cvx not available')\n"
       ]
      }
     ],
     "prompt_number": 1
    },
    {
     "cell_type": "code",
     "collapsed": false,
     "input": [
      "n, p, nsim, sigma = 20, 30, 100, 1.5\n",
      "\n",
      "def instance(n, p, beta=None, sigma=sigma):\n",
      "    X = np.random.standard_normal((n,p)) + np.random.standard_normal(n)[:,None] # equicorrelated 1/2\n",
      "    X /= X.std(0)[None,:]\n",
      "    Y = np.random.standard_normal(n) * sigma\n",
      "    if beta is not None:\n",
      "        Y += np.dot(X, beta)\n",
      "    return X, Y "
     ],
     "language": "python",
     "metadata": {},
     "outputs": [],
     "prompt_number": 2
    },
    {
     "cell_type": "code",
     "collapsed": false,
     "input": [
      "\n",
      "X, Y = instance(n, p, sigma=sigma) \n",
      "cone, _ = covtest(X, Y)\n",
      "idx = np.argmax(np.dot(X.T, Y))\n",
      "sign = np.sign((X[:,idx]*Y).sum())"
     ],
     "language": "python",
     "metadata": {},
     "outputs": [],
     "prompt_number": 3
    },
    {
     "cell_type": "code",
     "collapsed": false,
     "input": [
      "def conditional_simulation(Y, cone_constraint, norm_y, ndraw=1000):\n",
      "    \"\"\"\n",
      "    Simulate from a cone instersect a sphere of radius `norm_y`.\n",
      "    \n",
      "    Assumes that `cone_constraint` encodes a cone constraint.\n",
      "    \"\"\"\n",
      "    \n",
      "    Z = draw_truncated(Y, cone_constraint, ndraw=ndraw, burnin=1000)\n",
      "    Z /= np.sqrt((Z**2).sum(1))[:,None]\n",
      "    Z *= norm_y\n",
      "    return Z\n",
      "\n",
      "def covtest_unknown(X, Y, ndraw=5000):\n",
      "    \"\"\"\n",
      "    Covtest p-value with unknown sigma.\n",
      "    \"\"\"\n",
      "    cone, _ = covtest(X, Y)\n",
      "    A = conditional_simulation(Y, cone, np.linalg.norm(Y), ndraw=ndraw)\n",
      "    test_statistic = np.dot(A, X[:,idx]) * sign\n",
      "    lam1 = np.fabs(np.dot(X.T,Y)).max()\n",
      "    pval = (test_statistic >= lam1).sum() * 1. / ndraw\n",
      "    return pval\n",
      "\n"
     ],
     "language": "python",
     "metadata": {},
     "outputs": [],
     "prompt_number": 15
    },
    {
     "cell_type": "code",
     "collapsed": false,
     "input": [
      "P = []\n",
      "Pk = []\n",
      "for _ in range(nsim):\n",
      "    X, Y = instance(n, p, sigma=sigma)\n",
      "    P.append(covtest_unknown(X, Y))\n",
      "    Pk.append(covtest(X, Y, sigma=sigma)[1])"
     ],
     "language": "python",
     "metadata": {},
     "outputs": [],
     "prompt_number": 16
    },
    {
     "cell_type": "code",
     "collapsed": false,
     "input": [
      "g = np.linspace(0,1,101)\n",
      "plt.figure(figsize=(8,8))\n",
      "plt.plot(g, ECDF(P)(g), label='unknown')\n",
      "plt.plot(g, ECDF(Pk)(g), label='known')\n",
      "plt.legend()"
     ],
     "language": "python",
     "metadata": {},
     "outputs": [
      {
       "metadata": {},
       "output_type": "pyout",
       "prompt_number": 17,
       "text": [
        "<matplotlib.legend.Legend at 0x108404150>"
       ]
      },
      {
       "metadata": {},
       "output_type": "display_data",
       "png": "[encoded data removed]",
       "text": [
        "<matplotlib.figure.Figure at 0x108450c10>"
       ]
      }
     ],
     "prompt_number": 17
    },
    {
     "cell_type": "markdown",
     "metadata": {},
     "source": [
      "## 1-sparse"
     ]
    },
    {
     "cell_type": "code",
     "collapsed": false,
     "input": [
      "P = []\n",
      "Pk = []\n",
      "beta = np.zeros(p)\n",
      "beta[0] = 2\n",
      "for _ in range(nsim):\n",
      "    X, Y = instance(n, p, beta=beta)\n",
      "    P.append(covtest_unknown(X, Y))\n",
      "    Pk.append(covtest(X, Y, sigma=sigma)[1])"
     ],
     "language": "python",
     "metadata": {},
     "outputs": [],
     "prompt_number": 11
    },
    {
     "cell_type": "code",
     "collapsed": false,
     "input": [
      "plt.figure(figsize=(8,8))\n",
      "plt.plot(g, ECDF(P)(g), label='unknown')\n",
      "plt.plot(g, ECDF(Pk)(g), label='known')\n",
      "plt.legend()\n"
     ],
     "language": "python",
     "metadata": {},
     "outputs": [
      {
       "metadata": {},
       "output_type": "pyout",
       "prompt_number": 12,
       "text": [
        "<matplotlib.legend.Legend at 0x108661f50>"
       ]
      },
      {
       "metadata": {},
       "output_type": "display_data",
       "png": "[encoded data removed]",
       "text": [
        "<matplotlib.figure.Figure at 0x1082a4910>"
       ]
      }
     ],
     "prompt_number": 12
    },
    {
     "cell_type": "markdown",
     "metadata": {},
     "source": [
      "## 2-sparse"
     ]
    },
    {
     "cell_type": "code",
     "collapsed": false,
     "input": [
      "P = []\n",
      "Pk = []\n",
      "beta = np.zeros(p)\n",
      "beta[0] = 2\n",
      "beta[1] = 2\n",
      "for _ in range(nsim):\n",
      "    X, Y = instance(n, p, beta=beta)\n",
      "    P.append(covtest_unknown(X, Y))\n",
      "    Pk.append(covtest(X, Y, sigma=sigma)[1])"
     ],
     "language": "python",
     "metadata": {},
     "outputs": [],
     "prompt_number": 13
    },
    {
     "cell_type": "code",
     "collapsed": false,
     "input": [
      "plt.figure(figsize=(8,8))\n",
      "plt.plot(g, ECDF(P)(g), label='unknown')\n",
      "plt.plot(g, ECDF(Pk)(g), label='known')\n",
      "plt.legend()\n"
     ],
     "language": "python",
     "metadata": {},
     "outputs": [
      {
       "metadata": {},
       "output_type": "pyout",
       "prompt_number": 14,
       "text": [
        "<matplotlib.legend.Legend at 0x1083caf10>"
       ]
      },
      {
       "metadata": {},
       "output_type": "display_data",
       "png": "[encoded data removed]",
       "text": [
        "<matplotlib.figure.Figure at 0x109f07e50>"
       ]
      }
     ],
     "prompt_number": 14
    },
    {
     "cell_type": "code",
     "collapsed": false,
     "input": [],
     "language": "python",
     "metadata": {},
     "outputs": [],
     "prompt_number": 14
    },
    {
     "cell_type": "code",
     "collapsed": false,
     "input": [],
     "language": "python",
     "metadata": {},
     "outputs": []
    }
   ],
   "metadata": {}
  }
 ]
}