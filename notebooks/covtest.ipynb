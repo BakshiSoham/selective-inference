{
 "metadata": {
  "name": "",
  "signature": "sha256:2ecd5e04ceebc4d6615650b32bdd773cf8ddf9ef77572ece1af403f206c57d3d"
 },
 "nbformat": 3,
 "nbformat_minor": 0,
 "worksheets": [
  {
   "cells": [
    {
     "cell_type": "code",
     "collapsed": false,
     "input": [
      "import numpy as np\n",
      "from selection.lasso import covtest\n",
      "from selection.variance_estimation import draw_truncated\n",
      "%pylab inline"
     ],
     "language": "python",
     "metadata": {},
     "outputs": [
      {
       "output_type": "stream",
       "stream": "stdout",
       "text": [
        "Populating the interactive namespace from numpy and matplotlib\n"
       ]
      },
      {
       "output_type": "stream",
       "stream": "stderr",
       "text": [
        "WARNING: pylab import has clobbered these variables: ['sign']\n",
        "`%matplotlib` prevents importing * from pylab and numpy\n"
       ]
      }
     ],
     "prompt_number": 26
    },
    {
     "cell_type": "code",
     "collapsed": false,
     "input": [
      "def instance(n, p, beta=None, sigma=1.5):\n",
      "    X = np.random.standard_normal((n,p)) + np.random.standard_normal(n)[:,None] # equicorrelated 1/2\n",
      "    Y = np.random.standard_normal(n) * sigma\n",
      "    if beta is not None:\n",
      "        Y += np.dot(X, beta)\n",
      "    return X, Y "
     ],
     "language": "python",
     "metadata": {},
     "outputs": [],
     "prompt_number": 27
    },
    {
     "cell_type": "code",
     "collapsed": false,
     "input": [
      "n, p = 20, 10\n",
      "X, Y = instance(20,100) \n",
      "cone, _, idx, sign = covtest(X, Y)"
     ],
     "language": "python",
     "metadata": {},
     "outputs": [],
     "prompt_number": 28
    },
    {
     "cell_type": "code",
     "collapsed": false,
     "input": [
      "def conditional_simulation(Y, cone_constraint, norm_y, ndraw=1000):\n",
      "    \"\"\"\n",
      "    Simulate from a cone instersect a sphere of radius `norm_y`.\n",
      "    \n",
      "    Assumes that `cone_constraint` encodes a cone constraint.\n",
      "    \"\"\"\n",
      "    \n",
      "    Z = draw_truncated(Y, cone_constraint, ndraw=ndraw, burnin=100)\n",
      "    Z /= np.sqrt((Z**2).sum(1))[:,None]\n",
      "    Z *= norm_y\n",
      "    return Z\n",
      "\n",
      "def covtest_unknown(X, Y, ndraw=2000):\n",
      "    \"\"\"\n",
      "    Covtest p-value with unknown sigma.\n",
      "    \"\"\"\n",
      "    cone, _, idx, sign = covtest(X, Y)\n",
      "    A = conditional_simulation(Y, cone, np.linalg.norm(Y), ndraw=ndraw)\n",
      "    test_statistic = np.dot(A, X[:,idx]) * sign\n",
      "    pval = (test_statistic >= (X[:,idx] * Y).sum() * sign).sum() * 1. / ndraw\n",
      "    return pval"
     ],
     "language": "python",
     "metadata": {},
     "outputs": []
    },
    {
     "cell_type": "code",
     "collapsed": false,
     "input": [
      "P = []\n",
      "\n",
      "for _ in range(500):\n",
      "    X, Y = instance(n, p)\n",
      "    P.append(covtest_unknown(X, Y))"
     ],
     "language": "python",
     "metadata": {},
     "outputs": []
    },
    {
     "cell_type": "code",
     "collapsed": false,
     "input": [
      "from statsmodels.distributions import ECDF\n",
      "g = np.linspace(0,1,101)\n",
      "plt.plot(g, ECDF(P)(g))"
     ],
     "language": "python",
     "metadata": {},
     "outputs": []
    },
    {
     "cell_type": "code",
     "collapsed": false,
     "input": [],
     "language": "python",
     "metadata": {},
     "outputs": []
    }
   ],
   "metadata": {}
  }
 ]
}